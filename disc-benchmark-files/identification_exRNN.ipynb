{
 "cells": [
  {
   "cell_type": "code",
   "execution_count": null,
   "id": "917567a4",
   "metadata": {},
   "outputs": [
    {
     "name": "stdout",
     "output_type": "stream",
     "text": [
      "cpu\n"
     ]
    }
   ],
   "source": [
    "# Load required packages\n",
    "import torch\n",
    "from torch import nn\n",
    "from matplotlib import pyplot as plt\n",
    "plt.rcParams['text.usetex'] = False\n",
    "import numpy as np\n",
    "\n",
    "# register acceleration devices\n",
    "device = torch.device(\"cuda\" if torch.cuda.is_available() else \"cpu\")\n",
    "print(device)\n",
    "\n",
    "# Load Benchmark Data\n",
    "\n",
    "out = np.load('training-val-test-data.npz')\n",
    "th_data = out['th'] #th[0],th[1],th[2],th[3],...\n",
    "u_data = out['u'] #u[0],u[1],u[2],u[3],...\n",
    "\n",
    "from sklearn import model_selection\n",
    "u_train, u_val, y_train, y_val= model_selection.train_test_split(u_data, th_data, shuffle=False, test_size=0.3,random_state=42)\n",
    "\n",
    "def make_OE_data(udata, ydata, nf=100):\n",
    "    U = [] \n",
    "    Y = [] \n",
    "    for k in range(nf,len(udata)+1):\n",
    "        U.append(udata[k-nf:k]) #a)\n",
    "        Y.append(ydata[k-nf:k]) #a)\n",
    "    return np.array(U), np.array(Y)\n",
    "\n",
    "nfuture = 30\n",
    "convert = lambda x: [torch.tensor(xi,dtype=torch.float64,device=device) for xi in x]\n",
    "Utrain, Ytrain = convert(make_OE_data(u_train, y_train, nf=nfuture))\n",
    "Uval,   Yval   = convert(make_OE_data(u_val,   y_val,   nf=len(u_val))) #uses the whole data set for OE"
   ]
  },
  {
   "cell_type": "code",
   "execution_count": null,
   "id": "53d306e8",
   "metadata": {},
   "outputs": [],
   "source": [
    "# Code from EX3\n",
    "class simple_RNN(nn.Module):\n",
    "    def __init__(self, hidden_size):\n",
    "        super(simple_RNN, self).__init__()\n",
    "        self.hidden_size = hidden_size\n",
    "        self.input_size = 1\n",
    "        self.output_size = 1\n",
    "        net = lambda n_in,n_out: nn.Sequential(nn.Linear(n_in,40), \\\n",
    "                                               nn.Sigmoid(), \\\n",
    "                                               nn.Linear(40,n_out)).double() #new short hand\n",
    "        self.h2h = net(self.input_size + hidden_size, self.hidden_size) #b=)\n",
    "        self.h2o = net(self.input_size + hidden_size, self.output_size) #b=)\n",
    "                                                                        #[:,0] should be called after use of h2o\n",
    "\n",
    "    def forward(self, inputs):\n",
    "        #input.shape == (N_batch, N_time)\n",
    "        hidden = torch.zeros(inputs.shape[0], self.hidden_size, dtype=torch.float64) #c)\n",
    "        outputs = [] #c)\n",
    "        for i in range(inputs.shape[1]): #c)\n",
    "            u = inputs[:,i] #shape = (N_batch,) #c)\n",
    "            combined = torch.cat((hidden, u[:,None]), dim=1) #c) #shape = (N_batch,hidden_size+1)\n",
    "            outputs.append(self.h2o(combined)[:,0]) #c)\n",
    "            hidden = self.h2h(combined) #c)\n",
    "        return torch.stack(outputs,dim=1) #c)"
   ]
  }
 ],
 "metadata": {
  "kernelspec": {
   "display_name": "ml4sc",
   "language": "python",
   "name": "python3"
  },
  "language_info": {
   "codemirror_mode": {
    "name": "ipython",
    "version": 3
   },
   "file_extension": ".py",
   "mimetype": "text/x-python",
   "name": "python",
   "nbconvert_exporter": "python",
   "pygments_lexer": "ipython3",
   "version": "3.11.11"
  }
 },
 "nbformat": 4,
 "nbformat_minor": 5
}
